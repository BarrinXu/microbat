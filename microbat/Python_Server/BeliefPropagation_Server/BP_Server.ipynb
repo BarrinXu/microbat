{
 "cells": [
  {
   "cell_type": "code",
   "execution_count": null,
   "id": "98c0a884",
   "metadata": {},
   "outputs": [],
   "source": [
    "import sys\n",
    "!{sys.executable} -m pip install sockets\n",
    "!{sys.executable} -m pip install numpy\n",
    "!{sys.executable} -m pip install igraph\n",
    "!{sys.executable} -m pip install matplotlib\n",
    "!{sys.executable} -m pip install pyvis"
   ]
  },
  {
   "cell_type": "code",
   "execution_count": null,
   "id": "747fdd7e",
   "metadata": {},
   "outputs": [],
   "source": [
    "import time\n",
    "\n",
    "import numpy  as np\n",
    "import igraph as ig\n",
    "import matplotlib.pyplot as plt\n",
    "\n",
    "plt.rc(\"text\", usetex=True)\n",
    "\n",
    "%run ../SocketServer.ipynb\n",
    "%run ./2-ImplementationFactor.ipynb\n",
    "%run ./3-ImplementationPGM.ipynb\n",
    "%run ./customizedLBP.ipynb"
   ]
  },
  {
   "cell_type": "code",
   "execution_count": null,
   "id": "f6188a1c",
   "metadata": {},
   "outputs": [],
   "source": [
    "def factorLoader(factor_input, dilimiter):\n",
    "    tokens = factor_input.split(dilimiter)\n",
    "    for idx in range(0, len(tokens), 4):\n",
    "        yield tokens[idx], tokens[idx+1], tokens[idx+2], tokens[idx+3]"
   ]
  },
  {
   "cell_type": "code",
   "execution_count": null,
   "id": "83bdd329",
   "metadata": {},
   "outputs": [],
   "source": [
    "def printNodeCount(graph):\n",
    "    factor_node_count = 0\n",
    "    var_node_count = 0\n",
    "    \n",
    "    for i in range(graph.vcount()):\n",
    "        if graph.vs[i]['is_factor']:\n",
    "            factor_node_count += 1\n",
    "        else:\n",
    "            var_node_count += 1\n",
    "            \n",
    "    print(\"var node count:\", var_node_count, \"factor node count:\", factor_node_count, \"total:\", factor_node_count + var_node_count)\n",
    "    print(\"edges count:\", graph.ecount())"
   ]
  },
  {
   "cell_type": "code",
   "execution_count": null,
   "id": "7eb117fc",
   "metadata": {},
   "outputs": [],
   "source": [
    "def checkDuplicateVar(str_):\n",
    "    str_tokens = [i.split('(') for i in str_.split(')') if i != '']\n",
    "    for token in str_tokens:\n",
    "        vars = token[1].split(',')\n",
    "        if len(vars) != len(set(vars)):\n",
    "            print(\"contain duplicate variables: \", token[0])\n",
    "            print(vars)\n",
    "            raise ValueError('Duplicated variables: ' + token[0])"
   ]
  },
  {
   "cell_type": "code",
   "execution_count": null,
   "id": "99919155",
   "metadata": {},
   "outputs": [],
   "source": [
    "class BeliefPropagationServer(SocketServer):\n",
    "    \n",
    "    def __init__(self, host, port):\n",
    "        super().__init__(host, port)\n",
    "        self.MUL_SIGN = \"*\"\n",
    "        self.MAX_ITR = 10\n",
    "        \n",
    "    def func(self):\n",
    "        while True:\n",
    "            print(\"-\"*20)\n",
    "            graph_input = self.recvMsg()\n",
    "            factor_input = self.recvMsg()\n",
    "            \n",
    "            if not graph_input or not factor_input:\n",
    "                response = \"\"\n",
    "                self.sendMsg(response)\n",
    "                print(\"receive empty message\")\n",
    "                break\n",
    "            \n",
    "            checkDuplicateVar(graph_input)\n",
    "            if graph_input == self.END and factor_input == self.END:\n",
    "                response = self.END\n",
    "                self.sendMsg(response)\n",
    "                self._stillWorking = False\n",
    "                print(\"receive end message\")\n",
    "                break\n",
    "                \n",
    "            fg = string2factor_graph(graph_input)\n",
    "            predIDs_all = set()\n",
    "            for order, constraintID, predIDs_str, probs_str in factorLoader(factor_input, self.DILIMITER_2):\n",
    "                try:\n",
    "                    predIDs = predIDs_str.split(self.DILIMITER_1)\n",
    "\n",
    "#                     print(predIDs)\n",
    "                    predIDs_all.update(predIDs)\n",
    "                    predCount = len(predIDs)\n",
    "\n",
    "                    shape = [2 for _ in range(predCount)]\n",
    "                    shape = tuple(shape)\n",
    "\n",
    "                    probs_tokens = probs_str.split(self.DILIMITER_1)\n",
    "\n",
    "                    probs = []\n",
    "                    for probs_token in probs_tokens:\n",
    "                        probs_str, count = probs_token.split(self.MUL_SIGN)\n",
    "                        count = int(count)\n",
    "                        prob = float(probs_str)\n",
    "                        for _ in range(count):\n",
    "                            probs.append(prob)\n",
    "\n",
    "                    probs = np.array(probs)\n",
    "                    probs = probs.reshape(shape)\n",
    "\n",
    "                    fg.change_factor_distribution(constraintID, factor(predIDs,  probs))\n",
    "                except Exception as e:\n",
    "                    print(e)\n",
    "                    print(\"constraintID:\", constraintID)\n",
    "                    print(\"predIDs_str:\", predIDs_str)\n",
    "                    print(\"probs_str:\", probs_str)\n",
    "                    return\n",
    "\n",
    "            printNodeCount(fg.get_graph())\n",
    "\n",
    "            lbp = myLBP(fg)\n",
    "            start = time.time()\n",
    "            margProb = lbp.belief(predIDs_all, self.MAX_ITR)\n",
    "            end = time.time()\n",
    "\n",
    "            print(\"time needed: \", end - start)\n",
    "            plot_factor_graph(fg)\n",
    "            output_str = \"\"\n",
    "            for predID, prob in margProb.items():\n",
    "#                         print(predID, prob)\n",
    "                output_str += predID + self.DILIMITER_1 + str(prob)\n",
    "                output_str += self.DILIMITER_2\n",
    "\n",
    "            response = output_str[:-1]\n",
    "            self.sendMsg(response)\n",
    "\n"
   ]
  },
  {
   "cell_type": "code",
   "execution_count": null,
   "id": "f8ad79f0",
   "metadata": {},
   "outputs": [],
   "source": [
    "# Server setting\n",
    "HOST = \"127.0.0.1\"\n",
    "PORT = 8080\n",
    "STATEMENT_ID_PREFIX = \"S_\""
   ]
  },
  {
   "cell_type": "code",
   "execution_count": null,
   "id": "7430ec5c",
   "metadata": {},
   "outputs": [],
   "source": [
    "server = BeliefPropagationServer(HOST, PORT)"
   ]
  },
  {
   "cell_type": "code",
   "execution_count": null,
   "id": "189d1bbd",
   "metadata": {},
   "outputs": [],
   "source": [
    "server.start()"
   ]
  },
  {
   "cell_type": "code",
   "execution_count": null,
   "id": "a80b0273",
   "metadata": {},
   "outputs": [],
   "source": []
  },
  {
   "cell_type": "code",
   "execution_count": null,
   "id": "0ca0d38d",
   "metadata": {},
   "outputs": [],
   "source": []
  }
 ],
 "metadata": {
  "kernelspec": {
   "display_name": "Python 3 (ipykernel)",
   "language": "python",
   "name": "python3"
  },
  "language_info": {
   "codemirror_mode": {
    "name": "ipython",
    "version": 3
   },
   "file_extension": ".py",
   "mimetype": "text/x-python",
   "name": "python",
   "nbconvert_exporter": "python",
   "pygments_lexer": "ipython3",
   "version": "3.10.6"
  }
 },
 "nbformat": 4,
 "nbformat_minor": 5
}
