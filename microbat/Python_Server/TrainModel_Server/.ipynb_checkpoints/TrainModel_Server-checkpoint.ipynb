{
 "cells": [
  {
   "cell_type": "code",
   "execution_count": 1,
   "id": "89a940f4",
   "metadata": {},
   "outputs": [],
   "source": [
    "import socket"
   ]
  },
  {
   "cell_type": "code",
   "execution_count": 3,
   "id": "1887346e",
   "metadata": {},
   "outputs": [],
   "source": [
    "# Server Setting\n",
    "HOST = \"127.0.0.2\"\n",
    "PORT = 8080\n",
    "\n",
    "# Encoding Method\n",
    "ENCODING_METHOD = \"UTF-8\"\n",
    "\n",
    "# Buffer size for income message\n",
    "BUFFER_SIZE = pow(2, 20)\n",
    "\n",
    "# Setting for the message\n",
    "END = \"END\""
   ]
  },
  {
   "cell_type": "code",
   "execution_count": null,
   "id": "733b73ba",
   "metadata": {},
   "outputs": [],
   "source": [
    "def recvMsg(conn):\n",
    "    msg = \"\"\n",
    "    while True:\n",
    "        message = conn.recv(BUFFER_SIZE)\n",
    "        if not message:\n",
    "            return None\n",
    "        \n",
    "        message_str = message.decode(ENCODING_METHOD)\n",
    "        if message_str == MSG_BREAK:\n",
    "            break\n",
    "        else:\n",
    "            msg += message_str\n",
    "    \n",
    "    print(\"message size:\", len(msg))\n",
    "    return msg"
   ]
  },
  {
   "cell_type": "code",
   "execution_count": null,
   "id": "e6c9b13c",
   "metadata": {},
   "outputs": [],
   "source": [
    "def startServer():\n",
    "    with socket.socket(socket.AF_INET, socket.SOCK_STREAM) as s:\n",
    "        s.bind((HOST, PORT))\n",
    "        stillWorking = True\n",
    "        \n",
    "        while stillWorking:\n",
    "            s.listen()\n",
    "            conn, addr = s.accept()\n",
    "            with conn:\n",
    "                print(f\"Connected by {addr}\")\n",
    "                while True:\n",
    "                    "
   ]
  }
 ],
 "metadata": {
  "kernelspec": {
   "display_name": "Python 3 (ipykernel)",
   "language": "python",
   "name": "python3"
  },
  "language_info": {
   "codemirror_mode": {
    "name": "ipython",
    "version": 3
   },
   "file_extension": ".py",
   "mimetype": "text/x-python",
   "name": "python",
   "nbconvert_exporter": "python",
   "pygments_lexer": "ipython3",
   "version": "3.10.6"
  }
 },
 "nbformat": 4,
 "nbformat_minor": 5
}
